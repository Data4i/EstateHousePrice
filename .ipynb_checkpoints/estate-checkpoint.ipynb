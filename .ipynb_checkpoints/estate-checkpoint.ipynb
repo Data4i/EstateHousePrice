{
 "cells": [
  {
   "cell_type": "code",
   "execution_count": null,
   "id": "eac9acad-38ac-4567-8b21-3961b79352ec",
   "metadata": {},
   "outputs": [],
   "source": [
    "import pandas as pd\n",
    "import matplotlib.pyplot as plt\n",
    "import seaborn as sns\n",
    "from sklearn.preprocessing import StandardScaler, PolynomialFeatures\n",
    "from sklearn.pipeline import Pipeline\n",
    "from sklearn.linear_model import LinearRegression\n",
    "from sklearn.model_selection import train_test_split, GridSearchCV\n",
    "from sklearn.metrics import mean_squared_error\n"
   ]
  },
  {
   "cell_type": "code",
   "execution_count": null,
   "id": "078ce3a4-b4f1-4e25-8bc0-d1158cb9acba",
   "metadata": {},
   "outputs": [],
   "source": [
    "df = pd.read_csv('Real estate.csv', index_col = 0)"
   ]
  },
  {
   "cell_type": "code",
   "execution_count": null,
   "id": "6b91ecce-5012-4417-84b2-bc741d3959d8",
   "metadata": {},
   "outputs": [],
   "source": [
    "df['Year'] = df['X1 transaction date'].astype(str).str.split('.').str[0].astype(int)\n",
    "df.drop('X1 transaction date', axis =1, inplace=True)"
   ]
  },
  {
   "cell_type": "code",
   "execution_count": null,
   "id": "c6a87323-8262-43b5-900a-8929fa1035d5",
   "metadata": {},
   "outputs": [],
   "source": [
    "df.sample(10)"
   ]
  },
  {
   "cell_type": "code",
   "execution_count": null,
   "id": "ca236a93-0fa6-4669-8ef6-7083814386d9",
   "metadata": {},
   "outputs": [],
   "source": [
    "df.shape"
   ]
  },
  {
   "cell_type": "code",
   "execution_count": null,
   "id": "dcc75081-be6f-4509-a453-04af25e67ffa",
   "metadata": {},
   "outputs": [],
   "source": [
    "df.info()"
   ]
  },
  {
   "cell_type": "code",
   "execution_count": null,
   "id": "0a144026-1433-4486-983d-f283d8f036a8",
   "metadata": {},
   "outputs": [],
   "source": [
    "df.isna().sum()"
   ]
  },
  {
   "cell_type": "code",
   "execution_count": null,
   "id": "7372fc94-a82c-4d5d-a5fa-6c62b0c8cc59",
   "metadata": {},
   "outputs": [],
   "source": [
    "df"
   ]
  },
  {
   "cell_type": "code",
   "execution_count": null,
   "id": "cfc24800-ec44-4c1a-b8fa-498c58465cad",
   "metadata": {},
   "outputs": [],
   "source": [
    "sns.scatterplot(data = df, x = 'X5 latitude', y= 'X6 longitude')"
   ]
  },
  {
   "cell_type": "code",
   "execution_count": null,
   "id": "7668d8da-1233-4388-8e81-3cfec4ed9f6a",
   "metadata": {},
   "outputs": [],
   "source": [
    "X = df.drop('Y house price of unit area', axis = 1)\n",
    "y = df['Y house price of unit area'].copy()"
   ]
  },
  {
   "cell_type": "code",
   "execution_count": null,
   "id": "d1bddd3a-d5bb-4118-a688-d50ca37b617e",
   "metadata": {},
   "outputs": [],
   "source": [
    "X.head()"
   ]
  },
  {
   "cell_type": "code",
   "execution_count": null,
   "id": "057a825b-02bc-41d1-a20b-5c34d50cfb81",
   "metadata": {},
   "outputs": [],
   "source": [
    "y[:5]"
   ]
  },
  {
   "cell_type": "code",
   "execution_count": null,
   "id": "1eabfd5b-a63a-42dd-8c63-c249703c2e3f",
   "metadata": {},
   "outputs": [],
   "source": [
    "X_train, X_test, y_train, y_test = train_test_split(X, y, test_size = 0.2, random_state = 42)"
   ]
  },
  {
   "cell_type": "code",
   "execution_count": null,
   "id": "5e57890e-a4ee-4c18-881a-8022aa1c0929",
   "metadata": {},
   "outputs": [],
   "source": [
    "std_scaler = StandardScaler()"
   ]
  },
  {
   "cell_type": "code",
   "execution_count": null,
   "id": "31f5cb4f-756e-49c3-8894-84842886b0c3",
   "metadata": {},
   "outputs": [],
   "source": [
    "std_scaler.fit(X_train)\n",
    "X_train = std_scaler.transform(X_train)\n",
    "X_test = std_scaler.transform(X_test)"
   ]
  },
  {
   "cell_type": "code",
   "execution_count": null,
   "id": "87d87dc9-2c8d-4fe7-b570-b1034a8afe03",
   "metadata": {},
   "outputs": [],
   "source": [
    "poly_features = PolynomialFeatures(degree = 10)"
   ]
  },
  {
   "cell_type": "code",
   "execution_count": null,
   "id": "492941a6-1e5d-4064-9e67-ebaf46305359",
   "metadata": {},
   "outputs": [],
   "source": [
    "X_poly = poly_features.fit_transform(X_train)"
   ]
  },
  {
   "cell_type": "code",
   "execution_count": null,
   "id": "80c90b76-3907-4f5e-801a-8725ef8f77a9",
   "metadata": {},
   "outputs": [],
   "source": [
    "l_r = Pipeline([\n",
    "    ('poly', PolynomialFeatures(degree = 20)),\n",
    "    ('lr', LinearRegression()) \n",
    "])\n",
    "l_r2 = LinearRegression()"
   ]
  },
  {
   "cell_type": "code",
   "execution_count": null,
   "id": "ca53a0a1-6a18-4032-a877-c30727afd23b",
   "metadata": {},
   "outputs": [],
   "source": [
    "l_r.fit(X_train, y_train)"
   ]
  },
  {
   "cell_type": "code",
   "execution_count": null,
   "id": "548e0149-d3ab-4437-9681-b7a3c57e9fd3",
   "metadata": {},
   "outputs": [],
   "source": [
    "l_r_pred = l_r.predict(X_test)"
   ]
  },
  {
   "cell_type": "code",
   "execution_count": null,
   "id": "76757114-2a77-468b-8705-0f2b0f263901",
   "metadata": {},
   "outputs": [],
   "source": [
    "l_r2.fit(X_train, y_train)"
   ]
  },
  {
   "cell_type": "code",
   "execution_count": null,
   "id": "3d93ce04-43e3-4836-809f-9bb566656be8",
   "metadata": {},
   "outputs": [],
   "source": [
    "l_r2_pred = l_r2.predict(X_test)"
   ]
  },
  {
   "cell_type": "code",
   "execution_count": null,
   "id": "55f07c62-eae3-4064-a0c1-10e93b8db769",
   "metadata": {},
   "outputs": [],
   "source": [
    "mean_squared_error(y_test, l_r_pred)"
   ]
  },
  {
   "cell_type": "code",
   "execution_count": null,
   "id": "e25c966b-1f6f-488d-875e-3617d93de4ab",
   "metadata": {},
   "outputs": [],
   "source": [
    "mean_squared_error(y_test, l_r2_pred)"
   ]
  },
  {
   "cell_type": "code",
   "execution_count": null,
   "id": "e873b0e5-6032-4596-a0c0-df1071dcf272",
   "metadata": {},
   "outputs": [],
   "source": []
  }
 ],
 "metadata": {
  "kernelspec": {
   "display_name": "Python 3 (ipykernel)",
   "language": "python",
   "name": "python3"
  },
  "language_info": {
   "codemirror_mode": {
    "name": "ipython",
    "version": 3
   },
   "file_extension": ".py",
   "mimetype": "text/x-python",
   "name": "python",
   "nbconvert_exporter": "python",
   "pygments_lexer": "ipython3",
   "version": "3.10.6"
  }
 },
 "nbformat": 4,
 "nbformat_minor": 5
}
